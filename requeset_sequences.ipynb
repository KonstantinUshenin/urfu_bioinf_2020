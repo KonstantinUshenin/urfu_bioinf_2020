{
 "cells": [
  {
   "cell_type": "code",
   "execution_count": 1,
   "metadata": {},
   "outputs": [],
   "source": [
    "import sys\n",
    "import os\n",
    "from Bio import Entrez, SeqIO\n",
    "from urllib.error import HTTPError\n",
    "\n",
    "Entrez.email = 'example@gmail.com'\n",
    "DATABASENAME = 'nucleotide'"
   ]
  },
  {
   "cell_type": "code",
   "execution_count": 2,
   "metadata": {},
   "outputs": [],
   "source": [
    "in_filename = sys.argv[1] if len(sys.argv) >= 3 else snakemake.input\n",
    "out_filename = sys.argv[2] if len(sys.argv) >= 3 else snakemake.output"
   ]
  },
  {
   "cell_type": "code",
   "execution_count": 3,
   "metadata": {},
   "outputs": [],
   "source": [
    "genes = []\n",
    "with open(in_filename) as file:\n",
    "    file.readline() #Пропускаем заголовок сsv файла\n",
    "    for line in file.readlines():\n",
    "        line = line.split(',')\n",
    "        genes.append(line[0])"
   ]
  },
  {
   "cell_type": "code",
   "execution_count": 4,
   "metadata": {},
   "outputs": [
    {
     "name": "stdout",
     "output_type": "stream",
     "text": [
      "Don't found XP_004989719 by Entrez\n",
      "HTTP Error 400: Bad Request\n",
      "Don't found XP_003383036 by Entrez\n",
      "HTTP Error 400: Bad Request\n",
      "Don't found XP_002108930 by Entrez\n",
      "HTTP Error 400: Bad Request\n",
      "Don't found XP_002109775 by Entrez\n",
      "HTTP Error 400: Bad Request\n",
      "Don't found NP_001023079 by Entrez\n",
      "HTTP Error 400: Bad Request\n",
      "Don't found NP_001123176 by Entrez\n",
      "HTTP Error 400: Bad Request\n",
      "Don't found CCD68017 by Entrez\n",
      "HTTP Error 400: Bad Request\n",
      "Don't found AAF53504 by Entrez\n",
      "HTTP Error 400: Bad Request\n",
      "Don't found AFH07350 by Entrez\n",
      "HTTP Error 400: Bad Request\n",
      "Don't found ABW09342 by Entrez\n",
      "HTTP Error 400: Bad Request\n",
      "Don't found AAO83839 by Entrez\n",
      "HTTP Error 400: Bad Request\n",
      "Don't found AAO83841 by Entrez\n",
      "HTTP Error 400: Bad Request\n"
     ]
    }
   ],
   "source": [
    "handles = []\n",
    "for gene_id in genes:\n",
    "    try:\n",
    "        with Entrez.efetch(db=DATABASENAME, id=gene_id, rettype=\"fasta\") as handle:\n",
    "            handles.append(handle.read())\n",
    "    except HTTPError as e:\n",
    "        print(\"Don't found {} by Entrez\".format(gene_id))\n",
    "        print(e)"
   ]
  },
  {
   "cell_type": "code",
   "execution_count": 5,
   "metadata": {},
   "outputs": [],
   "source": [
    "with open(out_filename, 'w') as file:\n",
    "    for handle in handles:\n",
    "        file.write(handle)"
   ]
  }
 ],
 "metadata": {
  "kernelspec": {
   "display_name": "Python 3",
   "language": "python",
   "name": "python3"
  },
  "language_info": {
   "codemirror_mode": {
    "name": "ipython",
    "version": 3
   },
   "file_extension": ".py",
   "mimetype": "text/x-python",
   "name": "python",
   "nbconvert_exporter": "python",
   "pygments_lexer": "ipython3",
   "version": "3.7.4"
  }
 },
 "nbformat": 4,
 "nbformat_minor": 4
}
