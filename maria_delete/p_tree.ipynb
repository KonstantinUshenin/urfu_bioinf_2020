{
 "cells": [
  {
   "cell_type": "code",
   "execution_count": 4,
   "metadata": {},
   "outputs": [],
   "source": [
    "from Bio import Entrez, SeqIO"
   ]
  },
  {
   "cell_type": "code",
   "execution_count": 5,
   "metadata": {},
   "outputs": [],
   "source": [
    "Entrez.email = 'ved.m9110@gmail.com' # Always tell NCBI who you are\n",
    "entrezDbName = 'nucleotide' # set search to dbVar database\n",
    "ncbiListId = ['XM_535941.6', 'XM_021076169.1', 'NM_001313997.1', 'XM_008761924.1', 'AY280343.1', 'DQ242485.1', 'NM_012647.1', 'XM_023561036.1', 'XM_008258692.1', 'NM_001099298.3', 'AF540389.1', 'NM_021007.3', 'XM_008761914.2', 'XM_002712236.3', 'NM_001355166.1', 'XM_021074930.1', 'XM_022414727.1', 'NM_006922.4', 'NM_000334.4', 'NM_013178.1', 'XM_006531987.3', 'XM_002719480.3', 'XM_021066768.1', 'XM_848303.4 ', 'XM_003465929.2', 'NM_013125.2', 'XM_005001107.2', 'XM_017340134.1', ' NM_000335.5', 'XM_005634147.2', 'XM_021071676.1', 'NM_001253860.1', 'NM_002976.4', 'NM_031686.1', 'NM_009135.2', 'XM_022414716.1']\n",
    "ncbiListname = {'XM_535941.6' : 'SCN1A_canis', 'XM_021076169.1' : 'SCN1A_sus_scrofa', 'NM_001313997.1' : 'SCN1A_mus', 'XM_008761924.1' : 'SCN1A_rattus', 'AY280343.1' : 'SCN1A_cavia', 'DQ242485.1' : 'SCN1A_oryctolagus', 'NM_012647.1' : 'SCN2A_rattus', 'XM_023561036.1' : 'SCN2A_cavia', 'XM_008258692.1' : 'SCN2A_oryctolagus', 'NM_001099298.3' : 'SCN2A_mus', 'AF540389.1' : 'SCN2A_sus_scrofa', 'NM_021007.3' : 'SCN2A_homo', 'XM_008761914.2' : 'SCN3A_rattus', 'XM_002712236.3' : 'SCN3A_oryctolagus', 'NM_001355166.1' : 'SCN3A_mus', 'XM_021074930.1' : 'SCN3A_sus_scofa', 'XM_022414727.1' : 'SCN3A_canis', 'NM_006922.4' : 'SCN3A_homo', 'NM_000334.4' : 'SCN4A_homo', 'NM_013178.1' : 'SCN4A_rattus', 'XM_006531987.3' : 'SCN4A_mus', 'XM_002719480.3' : 'SCN4A_oryctolagus', 'XM_021066768.1' : 'SCN4A_sus_scofa', 'XM_848303.4 ' : 'SCN4A_canis', 'XM_003465929.2' : 'SCN4A_cavia', 'NM_013125.2': 'SCN5A_rattus', 'XM_005001107.2' : 'SCN5A_cavia', 'XM_017340134.1': 'SCN5A_oryctolagus', ' NM_000335.5' : 'SCN5A_homo', 'XM_005634147.2' : 'SCN5A_canis', 'XM_021071676.1' : 'SCN5A_sus', 'NM_001253860.1' : 'SCN5A_mus', 'NM_002976.4' : 'SCN7A_homo', 'NM_031686.1' : 'SCN7A_rattus', 'NM_009135.2' : 'SCN7A_mus', 'XM_022414716.1' : 'SCN7A_canis'}"
   ]
  },
  {
   "cell_type": "code",
   "execution_count": 6,
   "metadata": {},
   "outputs": [],
   "source": [
    "for ncbiSeqId in ncbiListId:\n",
    "    handle = Entrez.efetch(db=entrezDbName, id=ncbiSeqId, rettype=\"gb\", retmode=\"text\")\n",
    "    record = SeqIO.read(handle, \"genbank\")\n",
    "    output_file = open(ncbiSeqId + '.gb', \"w\")\n",
    "    SeqIO.write(record, output_file, \"gb\")\n",
    "    output_file.close()\n",
    "    handle.close()"
   ]
  },
  {
   "cell_type": "code",
   "execution_count": 4,
   "metadata": {},
   "outputs": [
    {
     "data": {
      "text/plain": [
       "SeqRecord(seq=Seq('GTCTCTCAGCACAAGATGTTTAACTTAATCACATCGACAAAGTCCCTTTTGCAA...AAA', SingleLetterAlphabet()), id='SCN7A_canis', name='XM_022414716.1', description='XM_022414716.1 PREDICTED: Canis lupus familiaris sodium voltage-gated channel alpha subunit 7 (SCN7A), transcript variant X1, mRNA', dbxrefs=[])"
      ]
     },
     "execution_count": 4,
     "metadata": {},
     "output_type": "execute_result"
    }
   ],
   "source": [
    "for ncbiSeqId in ncbiListId:\n",
    "    handle = Entrez.efetch(db=entrezDbName, id=ncbiSeqId, rettype=\"fasta\")\n",
    "    record = SeqIO.read(handle, \"fasta\")\n",
    "    record.id = ncbiListname[ncbiSeqId]\n",
    "record"
   ]
  },
  {
   "cell_type": "code",
   "execution_count": 5,
   "metadata": {},
   "outputs": [],
   "source": [
    "output_file = open('align.fasta', \"w\")\n",
    "for ncbiSeqId in ncbiListId:\n",
    "    handle = Entrez.efetch(db=entrezDbName, id=ncbiSeqId, rettype=\"fasta\")\n",
    "    record = SeqIO.read(handle, \"fasta\")\n",
    "    record.id = ncbiListname[ncbiSeqId]\n",
    "    SeqIO.write(record, output_file, \"fasta\")\n",
    "output_file.close()"
   ]
  },
  {
   "cell_type": "code",
   "execution_count": 1,
   "metadata": {},
   "outputs": [],
   "source": [
    "from Bio.Align.Applications import ClustalwCommandline"
   ]
  },
  {
   "cell_type": "code",
   "execution_count": 2,
   "metadata": {},
   "outputs": [
    {
     "data": {
      "text/plain": [
       "('\\n\\n\\n CLUSTAL 2.1 Multiple Sequence Alignments\\n\\n\\nSequence format is Pearson\\nSequence 1: SCN1A_canis        8339 bp\\nSequence 2: SCN1A_sus_scrofa   8336 bp\\nSequence 3: SCN1A_mus          8320 bp\\nSequence 4: SCN1A_rattus       8326 bp\\nSequence 5: SCN1A_cavia         131 bp\\nSequence 6: SCN1A_oryctolagus   492 bp\\nSequence 7: SCN2A_rattus       8553 bp\\nSequence 8: SCN2A_cavia        6653 bp\\nSequence 9: SCN2A_oryctolagus  8856 bp\\nSequence 10: SCN2A_mus          8819 bp\\nSequence 11: SCN2A_sus_scrofa    142 bp\\nSequence 12: SCN2A_homo         8630 bp\\nSequence 13: SCN3A_rattus       9006 bp\\nSequence 14: SCN3A_oryctolagus  8520 bp\\nSequence 15: SCN3A_mus          9707 bp\\nSequence 16: SCN3A_sus_scofa    8583 bp\\nSequence 17: SCN3A_canis        8593 bp\\nSequence 18: SCN3A_homo         9102 bp\\nSequence 19: SCN4A_homo         7805 bp\\nSequence 20: SCN4A_rattus       6957 bp\\nSequence 21: SCN4A_mus          8132 bp\\nSequence 22: SCN4A_oryctolagus  6862 bp\\nSequence 23: SCN4A_sus_scofa    8101 bp\\nSequence 24: SCN4A_canis        8276 bp\\nSequence 25: SCN4A_cavia        7579 bp\\nSequence 26: SCN5A_rattus       8468 bp\\nSequence 27: SCN5A_cavia        8292 bp\\nSequence 28: SCN5A_oryctolagus  7758 bp\\nSequence 29: SCN5A_homo         8516 bp\\nSequence 30: SCN5A_canis        8544 bp\\nSequence 31: SCN5A_sus          8359 bp\\nSequence 32: SCN5A_mus          8287 bp\\nSequence 33: SCN7A_homo         7465 bp\\nSequence 34: SCN7A_rattus       6556 bp\\nSequence 35: SCN7A_mus          7333 bp\\nSequence 36: SCN7A_canis        5162 bp\\nStart of Pairwise alignments\\nAligning...\\n\\nSequences (1:2) Aligned. Score:  92\\nSequences (1:3) Aligned. Score:  88\\nSequences (1:4) Aligned. Score:  87\\nSequences (1:5) Aligned. Score:  84\\nSequences (1:6) Aligned. Score:  90\\nSequences (1:7) Aligned. Score:  71\\nSequences (1:8) Aligned. Score:  78\\nSequences (1:9) Aligned. Score:  77\\nSequences (1:10) Aligned. Score:  71\\nSequences (1:11) Aligned. Score:  88\\nSequences (1:12) Aligned. Score:  77\\nSequences (1:13) Aligned. Score:  68\\nSequences (1:14) Aligned. Score:  74\\nSequences (1:15) Aligned. Score:  69\\nSequences (1:16) Aligned. Score:  74\\nSequences (1:17) Aligned. Score:  74\\nSequences (1:18) Aligned. Score:  74\\nSequences (1:19) Aligned. Score:  46\\nSequences (1:20) Aligned. Score:  52\\nSequences (1:21) Aligned. Score:  45\\nSequences (1:22) Aligned. Score:  52\\nSequences (1:23) Aligned. Score:  44\\nSequences (1:24) Aligned. Score:  44\\nSequences (1:25) Aligned. Score:  48\\nSequences (1:26) Aligned. Score:  46\\nSequences (1:27) Aligned. Score:  46\\nSequences (1:28) Aligned. Score:  48\\nSequences (1:29) Aligned. Score:  46\\nSequences (1:30) Aligned. Score:  46\\nSequences (1:31) Aligned. Score:  46\\nSequences (1:32) Aligned. Score:  46\\nSequences (1:33) Aligned. Score:  33\\nSequences (1:34) Aligned. Score:  35\\nSequences (1:35) Aligned. Score:  32\\nSequences (1:36) Aligned. Score:  47\\nSequences (2:3) Aligned. Score:  87\\nSequences (2:4) Aligned. Score:  87\\nSequences (2:5) Aligned. Score:  86\\nSequences (2:6) Aligned. Score:  89\\nSequences (2:7) Aligned. Score:  71\\nSequences (2:8) Aligned. Score:  78\\nSequences (2:9) Aligned. Score:  77\\nSequences (2:10) Aligned. Score:  71\\nSequences (2:11) Aligned. Score:  95\\nSequences (2:12) Aligned. Score:  77\\nSequences (2:13) Aligned. Score:  72\\nSequences (2:14) Aligned. Score:  74\\nSequences (2:15) Aligned. Score:  69\\nSequences (2:16) Aligned. Score:  74\\nSequences (2:17) Aligned. Score:  74\\nSequences (2:18) Aligned. Score:  74\\nSequences (2:19) Aligned. Score:  47\\nSequences (2:20) Aligned. Score:  53\\nSequences (2:21) Aligned. Score:  45\\nSequences (2:22) Aligned. Score:  52\\nSequences (2:23) Aligned. Score:  45\\nSequences (2:24) Aligned. Score:  44\\nSequences (2:25) Aligned. Score:  48\\nSequences (2:26) Aligned. Score:  46\\nSequences (2:27) Aligned. Score:  46\\nSequences (2:28) Aligned. Score:  48\\nSequences (2:29) Aligned. Score:  46\\nSequences (2:30) Aligned. Score:  46\\nSequences (2:31) Aligned. Score:  45\\nSequences (2:32) Aligned. Score:  46\\nSequences (2:33) Aligned. Score:  32\\nSequences (2:34) Aligned. Score:  35\\nSequences (2:35) Aligned. Score:  32\\nSequences (2:36) Aligned. Score:  47\\nSequences (3:4) Aligned. Score:  94\\nSequences (3:5) Aligned. Score:  83\\nSequences (3:6) Aligned. Score:  92\\nSequences (3:7) Aligned. Score:  72\\nSequences (3:8) Aligned. Score:  77\\nSequences (3:9) Aligned. Score:  76\\nSequences (3:10) Aligned. Score:  72\\nSequences (3:11) Aligned. Score:  85\\nSequences (3:12) Aligned. Score:  76\\nSequences (3:13) Aligned. Score:  69\\nSequences (3:14) Aligned. Score:  73\\nSequences (3:15) Aligned. Score:  70\\nSequences (3:16) Aligned. Score:  73\\nSequences (3:17) Aligned. Score:  72\\nSequences (3:18) Aligned. Score:  73\\nSequences (3:19) Aligned. Score:  47\\nSequences (3:20) Aligned. Score:  53\\nSequences (3:21) Aligned. Score:  45\\nSequences (3:22) Aligned. Score:  54\\nSequences (3:23) Aligned. Score:  45\\nSequences (3:24) Aligned. Score:  45\\nSequences (3:25) Aligned. Score:  48\\nSequences (3:26) Aligned. Score:  47\\nSequences (3:27) Aligned. Score:  47\\nSequences (3:28) Aligned. Score:  49\\nSequences (3:29) Aligned. Score:  47\\nSequences (3:30) Aligned. Score:  47\\nSequences (3:31) Aligned. Score:  46\\nSequences (3:32) Aligned. Score:  47\\nSequences (3:33) Aligned. Score:  31\\nSequences (3:34) Aligned. Score:  35\\nSequences (3:35) Aligned. Score:  32\\nSequences (3:36) Aligned. Score:  46\\nSequences (4:5) Aligned. Score:  83\\nSequences (4:6) Aligned. Score:  90\\nSequences (4:7) Aligned. Score:  72\\nSequences (4:8) Aligned. Score:  77\\nSequences (4:9) Aligned. Score:  76\\nSequences (4:10) Aligned. Score:  72\\nSequences (4:11) Aligned. Score:  82\\nSequences (4:12) Aligned. Score:  76\\nSequences (4:13) Aligned. Score:  70\\nSequences (4:14) Aligned. Score:  69\\nSequences (4:15) Aligned. Score:  70\\nSequences (4:16) Aligned. Score:  73\\nSequences (4:17) Aligned. Score:  73\\nSequences (4:18) Aligned. Score:  73\\nSequences (4:19) Aligned. Score:  47\\nSequences (4:20) Aligned. Score:  54\\nSequences (4:21) Aligned. Score:  46\\nSequences (4:22) Aligned. Score:  54\\nSequences (4:23) Aligned. Score:  46\\nSequences (4:24) Aligned. Score:  45\\nSequences (4:25) Aligned. Score:  48\\nSequences (4:26) Aligned. Score:  47\\nSequences (4:27) Aligned. Score:  47\\nSequences (4:28) Aligned. Score:  49\\nSequences (4:29) Aligned. Score:  47\\nSequences (4:30) Aligned. Score:  47\\nSequences (4:31) Aligned. Score:  46\\nSequences (4:32) Aligned. Score:  47\\nSequences (4:33) Aligned. Score:  31\\nSequences (4:34) Aligned. Score:  35\\nSequences (4:35) Aligned. Score:  31\\nSequences (4:36) Aligned. Score:  45\\nSequences (5:6) Aligned. Score:  8\\nSequences (5:7) Aligned. Score:  70\\nSequences (5:8) Aligned. Score:  74\\nSequences (5:9) Aligned. Score:  74\\nSequences (5:10) Aligned. Score:  74\\nSequences (5:11) Aligned. Score:  6\\nSequences (5:12) Aligned. Score:  73\\nSequences (5:13) Aligned. Score:  67\\nSequences (5:14) Aligned. Score:  74\\nSequences (5:15) Aligned. Score:  69\\nSequences (5:16) Aligned. Score:  68\\nSequences (5:17) Aligned. Score:  68\\nSequences (5:18) Aligned. Score:  70\\nSequences (5:19) Aligned. Score:  32\\nSequences (5:20) Aligned. Score:  35\\nSequences (5:21) Aligned. Score:  35\\nSequences (5:22) Aligned. Score:  33\\nSequences (5:23) Aligned. Score:  35\\nSequences (5:24) Aligned. Score:  35\\nSequences (5:25) Aligned. Score:  35\\nSequences (5:26) Aligned. Score:  32\\nSequences (5:27) Aligned. Score:  48\\nSequences (5:28) Aligned. Score:  20\\nSequences (5:29) Aligned. Score:  20\\nSequences (5:30) Aligned. Score:  25\\nSequences (5:31) Aligned. Score:  57\\nSequences (5:32) Aligned. Score:  30\\nSequences (5:33) Aligned. Score:  26\\nSequences (5:34) Aligned. Score:  12\\nSequences (5:35) Aligned. Score:  16\\nSequences (5:36) Aligned. Score:  15\\nSequences (6:7) Aligned. Score:  76\\nSequences (6:8) Aligned. Score:  69\\nSequences (6:9) Aligned. Score:  74\\nSequences (6:10) Aligned. Score:  75\\nSequences (6:11) Aligned. Score:  15\\nSequences (6:12) Aligned. Score:  76\\nSequences (6:13) Aligned. Score:  76\\nSequences (6:14) Aligned. Score:  72\\nSequences (6:15) Aligned. Score:  75\\nSequences (6:16) Aligned. Score:  69\\nSequences (6:17) Aligned. Score:  69\\nSequences (6:18) Aligned. Score:  76\\nSequences (6:19) Aligned. Score:  57\\nSequences (6:20) Aligned. Score:  58\\nSequences (6:21) Aligned. Score:  57\\nSequences (6:22) Aligned. Score:  57\\nSequences (6:23) Aligned. Score:  58\\nSequences (6:24) Aligned. Score:  58\\nSequences (6:25) Aligned. Score:  57\\nSequences (6:26) Aligned. Score:  48\\nSequences (6:27) Aligned. Score:  47\\nSequences (6:28) Aligned. Score:  47\\nSequences (6:29) Aligned. Score:  48\\nSequences (6:30) Aligned. Score:  47\\nSequences (6:31) Aligned. Score:  48\\nSequences (6:32) Aligned. Score:  48\\nSequences (6:33) Aligned. Score:  48\\nSequences (6:34) Aligned. Score:  50\\nSequences (6:35) Aligned. Score:  45\\nSequences (6:36) Aligned. Score:  51\\nSequences (7:8) Aligned. Score:  86\\nSequences (7:9) Aligned. Score:  84\\nSequences (7:10) Aligned. Score:  92\\nSequences (7:11) Aligned. Score:  85\\nSequences (7:12) Aligned. Score:  84\\nSequences (7:13) Aligned. Score:  67\\nSequences (7:14) Aligned. Score:  66\\nSequences (7:15) Aligned. Score:  68\\nSequences (7:16) Aligned. Score:  66\\nSequences (7:17) Aligned. Score:  61\\nSequences (7:18) Aligned. Score:  66\\nSequences (7:19) Aligned. Score:  48\\nSequences (7:20) Aligned. Score:  54\\nSequences (7:21) Aligned. Score:  46\\nSequences (7:22) Aligned. Score:  55\\nSequences (7:23) Aligned. Score:  46\\nSequences (7:24) Aligned. Score:  46\\nSequences (7:25) Aligned. Score:  49\\nSequences (7:26) Aligned. Score:  47\\nSequences (7:27) Aligned. Score:  47\\nSequences (7:28) Aligned. Score:  50\\nSequences (7:29) Aligned. Score:  46\\nSequences (7:30) Aligned. Score:  46\\nSequences (7:31) Aligned. Score:  47\\nSequences (7:32) Aligned. Score:  48\\nSequences (7:33) Aligned. Score:  33\\nSequences (7:34) Aligned. Score:  35\\nSequences (7:35) Aligned. Score:  31\\nSequences (7:36) Aligned. Score:  47\\nSequences (8:9) Aligned. Score:  90\\nSequences (8:10) Aligned. Score:  85\\nSequences (8:11) Aligned. Score:  84\\nSequences (8:12) Aligned. Score:  89\\nSequences (8:13) Aligned. Score:  75\\nSequences (8:14) Aligned. Score:  78\\nSequences (8:15) Aligned. Score:  77\\nSequences (8:16) Aligned. Score:  78\\nSequences (8:17) Aligned. Score:  78\\nSequences (8:18) Aligned. Score:  78\\nSequences (8:19) Aligned. Score:  54\\nSequences (8:20) Aligned. Score:  55\\nSequences (8:21) Aligned. Score:  55\\nSequences (8:22) Aligned. Score:  54\\nSequences (8:23) Aligned. Score:  54\\nSequences (8:24) Aligned. Score:  55\\nSequences (8:25) Aligned. Score:  54\\nSequences (8:26) Aligned. Score:  57\\nSequences (8:27) Aligned. Score:  58\\nSequences (8:28) Aligned. Score:  56\\nSequences (8:29) Aligned. Score:  57\\nSequences (8:30) Aligned. Score:  57\\nSequences (8:31) Aligned. Score:  57\\nSequences (8:32) Aligned. Score:  57\\nSequences (8:33) Aligned. Score:  36\\nSequences (8:34) Aligned. Score:  35\\nSequences (8:35) Aligned. Score:  34\\nSequences (8:36) Aligned. Score:  47\\nSequences (9:10) Aligned. Score:  84\\nSequences (9:11) Aligned. Score:  88\\nSequences (9:12) Aligned. Score:  91\\nSequences (9:13) Aligned. Score:  69\\nSequences (9:14) Aligned. Score:  75\\nSequences (9:15) Aligned. Score:  68\\nSequences (9:16) Aligned. Score:  74\\nSequences (9:17) Aligned. Score:  73\\nSequences (9:18) Aligned. Score:  72\\nSequences (9:19) Aligned. Score:  47\\nSequences (9:20) Aligned. Score:  54\\nSequences (9:21) Aligned. Score:  46\\nSequences (9:22) Aligned. Score:  54\\nSequences (9:23) Aligned. Score:  45\\nSequences (9:24) Aligned. Score:  44\\nSequences (9:25) Aligned. Score:  48\\nSequences (9:26) Aligned. Score:  45\\nSequences (9:27) Aligned. Score:  47\\nSequences (9:28) Aligned. Score:  48\\nSequences (9:29) Aligned. Score:  45\\nSequences (9:30) Aligned. Score:  45\\nSequences (9:31) Aligned. Score:  45\\nSequences (9:32) Aligned. Score:  46\\nSequences (9:33) Aligned. Score:  33\\nSequences (9:34) Aligned. Score:  35\\nSequences (9:35) Aligned. Score:  33\\nSequences (9:36) Aligned. Score:  49\\nSequences (10:11) Aligned. Score:  86\\nSequences (10:12) Aligned. Score:  87\\nSequences (10:13) Aligned. Score:  65\\nSequences (10:14) Aligned. Score:  67\\nSequences (10:15) Aligned. Score:  66\\nSequences (10:16) Aligned. Score:  66\\nSequences (10:17) Aligned. Score:  61\\nSequences (10:18) Aligned. Score:  64\\nSequences (10:19) Aligned. Score:  48\\nSequences (10:20) Aligned. Score:  54\\nSequences (10:21) Aligned. Score:  46\\nSequences (10:22) Aligned. Score:  54\\nSequences (10:23) Aligned. Score:  46\\nSequences (10:24) Aligned. Score:  45\\nSequences (10:25) Aligned. Score:  49\\nSequences (10:26) Aligned. Score:  46\\nSequences (10:27) Aligned. Score:  48\\nSequences (10:28) Aligned. Score:  50\\nSequences (10:29) Aligned. Score:  46\\nSequences (10:30) Aligned. Score:  46\\nSequences (10:31) Aligned. Score:  47\\nSequences (10:32) Aligned. Score:  47\\nSequences (10:33) Aligned. Score:  32\\nSequences (10:34) Aligned. Score:  35\\nSequences (10:35) Aligned. Score:  31\\nSequences (10:36) Aligned. Score:  47\\nSequences (11:12) Aligned. Score:  90\\nSequences (11:13) Aligned. Score:  82\\nSequences (11:14) Aligned. Score:  89\\nSequences (11:15) Aligned. Score:  85\\nSequences (11:16) Aligned. Score:  94\\nSequences (11:17) Aligned. Score:  87\\nSequences (11:18) Aligned. Score:  90\\nSequences (11:19) Aligned. Score:  67\\nSequences (11:20) Aligned. Score:  65\\nSequences (11:21) Aligned. Score:  66\\nSequences (11:22) Aligned. Score:  66\\nSequences (11:23) Aligned. Score:  66\\nSequences (11:24) Aligned. Score:  66\\nSequences (11:25) Aligned. Score:  72\\nSequences (11:26) Aligned. Score:  59\\nSequences (11:27) Aligned. Score:  61\\nSequences (11:28) Aligned. Score:  61\\nSequences (11:29) Aligned. Score:  65\\nSequences (11:30) Aligned. Score:  62\\nSequences (11:31) Aligned. Score:  59\\nSequences (11:32) Aligned. Score:  64\\nSequences (11:33) Aligned. Score:  73\\nSequences (11:34) Aligned. Score:  73\\nSequences (11:35) Aligned. Score:  71\\nSequences (11:36) Aligned. Score:  74\\nSequences (12:13) Aligned. Score:  72\\nSequences (12:14) Aligned. Score:  74\\nSequences (12:15) Aligned. Score:  66\\nSequences (12:16) Aligned. Score:  74\\nSequences (12:17) Aligned. Score:  74\\nSequences (12:18) Aligned. Score:  74\\nSequences (12:19) Aligned. Score:  47\\nSequences (12:20) Aligned. Score:  52\\nSequences (12:21) Aligned. Score:  45\\nSequences (12:22) Aligned. Score:  52\\nSequences (12:23) Aligned. Score:  44\\nSequences (12:24) Aligned. Score:  44\\nSequences (12:25) Aligned. Score:  48\\nSequences (12:26) Aligned. Score:  45\\nSequences (12:27) Aligned. Score:  46\\nSequences (12:28) Aligned. Score:  48\\nSequences (12:29) Aligned. Score:  45\\nSequences (12:30) Aligned. Score:  44\\nSequences (12:31) Aligned. Score:  45\\nSequences (12:32) Aligned. Score:  46\\nSequences (12:33) Aligned. Score:  34\\nSequences (12:34) Aligned. Score:  36\\nSequences (12:35) Aligned. Score:  33\\nSequences (12:36) Aligned. Score:  49\\nSequences (13:14) Aligned. Score:  82\\nSequences (13:15) Aligned. Score:  86\\nSequences (13:16) Aligned. Score:  81\\nSequences (13:17) Aligned. Score:  80\\nSequences (13:18) Aligned. Score:  79\\nSequences (13:19) Aligned. Score:  47\\nSequences (13:20) Aligned. Score:  53\\nSequences (13:21) Aligned. Score:  45\\nSequences (13:22) Aligned. Score:  54\\nSequences (13:23) Aligned. Score:  45\\nSequences (13:24) Aligned. Score:  45\\nSequences (13:25) Aligned. Score:  48\\nSequences (13:26) Aligned. Score:  46\\nSequences (13:27) Aligned. Score:  47\\nSequences (13:28) Aligned. Score:  50\\nSequences (13:29) Aligned. Score:  45\\nSequences (13:30) Aligned. Score:  45\\nSequences (13:31) Aligned. Score:  46\\nSequences (13:32) Aligned. Score:  47\\nSequences (13:33) Aligned. Score:  31\\nSequences (13:34) Aligned. Score:  35\\nSequences (13:35) Aligned. Score:  31\\nSequences (13:36) Aligned. Score:  46\\nSequences (14:15) Aligned. Score:  84\\nSequences (14:16) Aligned. Score:  90\\nSequences (14:17) Aligned. Score:  90\\nSequences (14:18) Aligned. Score:  91\\nSequences (14:19) Aligned. Score:  47\\nSequences (14:20) Aligned. Score:  52\\nSequences (14:21) Aligned. Score:  45\\nSequences (14:22) Aligned. Score:  52\\nSequences (14:23) Aligned. Score:  44\\nSequences (14:24) Aligned. Score:  43\\nSequences (14:25) Aligned. Score:  48\\nSequences (14:26) Aligned. Score:  45\\nSequences (14:27) Aligned. Score:  46\\nSequences (14:28) Aligned. Score:  48\\nSequences (14:29) Aligned. Score:  45\\nSequences (14:30) Aligned. Score:  45\\nSequences (14:31) Aligned. Score:  45\\nSequences (14:32) Aligned. Score:  46\\nSequences (14:33) Aligned. Score:  33\\nSequences (14:34) Aligned. Score:  36\\nSequences (14:35) Aligned. Score:  32\\nSequences (14:36) Aligned. Score:  48\\nSequences (15:16) Aligned. Score:  84\\nSequences (15:17) Aligned. Score:  83\\nSequences (15:18) Aligned. Score:  81\\nSequences (15:19) Aligned. Score:  48\\nSequences (15:20) Aligned. Score:  53\\nSequences (15:21) Aligned. Score:  46\\nSequences (15:22) Aligned. Score:  54\\nSequences (15:23) Aligned. Score:  46\\nSequences (15:24) Aligned. Score:  45\\nSequences (15:25) Aligned. Score:  49\\nSequences (15:26) Aligned. Score:  46\\nSequences (15:27) Aligned. Score:  47\\nSequences (15:28) Aligned. Score:  50\\nSequences (15:29) Aligned. Score:  46\\nSequences (15:30) Aligned. Score:  46\\nSequences (15:31) Aligned. Score:  47\\nSequences (15:32) Aligned. Score:  47\\nSequences (15:33) Aligned. Score:  32\\nSequences (15:34) Aligned. Score:  35\\nSequences (15:35) Aligned. Score:  31\\nSequences (15:36) Aligned. Score:  47\\nSequences (16:17) Aligned. Score:  92\\nSequences (16:18) Aligned. Score:  91\\nSequences (16:19) Aligned. Score:  46\\nSequences (16:20) Aligned. Score:  52\\nSequences (16:21) Aligned. Score:  45\\nSequences (16:22) Aligned. Score:  52\\nSequences (16:23) Aligned. Score:  44\\nSequences (16:24) Aligned. Score:  43\\nSequences (16:25) Aligned. Score:  47\\nSequences (16:26) Aligned. Score:  45\\nSequences (16:27) Aligned. Score:  46\\nSequences (16:28) Aligned. Score:  48\\nSequences (16:29) Aligned. Score:  45\\nSequences (16:30) Aligned. Score:  44\\nSequences (16:31) Aligned. Score:  45\\nSequences (16:32) Aligned. Score:  46\\nSequences (16:33) Aligned. Score:  33\\nSequences (16:34) Aligned. Score:  36\\nSequences (16:35) Aligned. Score:  31\\nSequences (16:36) Aligned. Score:  46\\nSequences (17:18) Aligned. Score:  90\\nSequences (17:19) Aligned. Score:  46\\nSequences (17:20) Aligned. Score:  52\\nSequences (17:21) Aligned. Score:  45\\nSequences (17:22) Aligned. Score:  52\\nSequences (17:23) Aligned. Score:  44\\nSequences (17:24) Aligned. Score:  44\\nSequences (17:25) Aligned. Score:  47\\nSequences (17:26) Aligned. Score:  44\\nSequences (17:27) Aligned. Score:  46\\nSequences (17:28) Aligned. Score:  48\\nSequences (17:29) Aligned. Score:  45\\nSequences (17:30) Aligned. Score:  45\\nSequences (17:31) Aligned. Score:  45\\nSequences (17:32) Aligned. Score:  46\\nSequences (17:33) Aligned. Score:  33\\nSequences (17:34) Aligned. Score:  36\\nSequences (17:35) Aligned. Score:  32\\nSequences (17:36) Aligned. Score:  48\\nSequences (18:19) Aligned. Score:  46\\nSequences (18:20) Aligned. Score:  51\\nSequences (18:21) Aligned. Score:  44\\nSequences (18:22) Aligned. Score:  51\\nSequences (18:23) Aligned. Score:  44\\nSequences (18:24) Aligned. Score:  43\\nSequences (18:25) Aligned. Score:  47\\nSequences (18:26) Aligned. Score:  45\\nSequences (18:27) Aligned. Score:  46\\nSequences (18:28) Aligned. Score:  48\\nSequences (18:29) Aligned. Score:  45\\nSequences (18:30) Aligned. Score:  45\\nSequences (18:31) Aligned. Score:  45\\nSequences (18:32) Aligned. Score:  46\\nSequences (18:33) Aligned. Score:  33\\nSequences (18:34) Aligned. Score:  36\\nSequences (18:35) Aligned. Score:  32\\nSequences (18:36) Aligned. Score:  48\\nSequences (19:20) Aligned. Score:  80\\nSequences (19:21) Aligned. Score:  80\\nSequences (19:22) Aligned. Score:  83\\nSequences (19:23) Aligned. Score:  84\\nSequences (19:24) Aligned. Score:  84\\nSequences (19:25) Aligned. Score:  85\\nSequences (19:26) Aligned. Score:  50\\nSequences (19:27) Aligned. Score:  50\\nSequences (19:28) Aligned. Score:  52\\nSequences (19:29) Aligned. Score:  50\\nSequences (19:30) Aligned. Score:  51\\nSequences (19:31) Aligned. Score:  50\\nSequences (19:32) Aligned. Score:  50\\nSequences (19:33) Aligned. Score:  38\\nSequences (19:34) Aligned. Score:  44\\nSequences (19:35) Aligned. Score:  38\\nSequences (19:36) Aligned. Score:  55\\nSequences (20:21) Aligned. Score:  92\\nSequences (20:22) Aligned. Score:  82\\nSequences (20:23) Aligned. Score:  82\\nSequences (20:24) Aligned. Score:  82\\nSequences (20:25) Aligned. Score:  78\\nSequences (20:26) Aligned. Score:  56\\nSequences (20:27) Aligned. Score:  56\\nSequences (20:28) Aligned. Score:  56\\nSequences (20:29) Aligned. Score:  56\\nSequences (20:30) Aligned. Score:  56\\nSequences (20:31) Aligned. Score:  56\\nSequences (20:32) Aligned. Score:  56\\nSequences (20:33) Aligned. Score:  41\\nSequences (20:34) Aligned. Score:  44\\nSequences (20:35) Aligned. Score:  41\\nSequences (20:36) Aligned. Score:  56\\nSequences (21:22) Aligned. Score:  82\\nSequences (21:23) Aligned. Score:  78\\nSequences (21:24) Aligned. Score:  79\\nSequences (21:25) Aligned. Score:  81\\nSequences (21:26) Aligned. Score:  48\\nSequences (21:27) Aligned. Score:  48\\nSequences (21:28) Aligned. Score:  50\\nSequences (21:29) Aligned. Score:  47\\nSequences (21:30) Aligned. Score:  47\\nSequences (21:31) Aligned. Score:  48\\nSequences (21:32) Aligned. Score:  48\\nSequences (21:33) Aligned. Score:  39\\nSequences (21:34) Aligned. Score:  44\\nSequences (21:35) Aligned. Score:  40\\nSequences (21:36) Aligned. Score:  56\\nSequences (22:23) Aligned. Score:  85\\nSequences (22:24) Aligned. Score:  85\\nSequences (22:25) Aligned. Score:  80\\nSequences (22:26) Aligned. Score:  58\\nSequences (22:27) Aligned. Score:  58\\nSequences (22:28) Aligned. Score:  60\\nSequences (22:29) Aligned. Score:  59\\nSequences (22:30) Aligned. Score:  58\\nSequences (22:31) Aligned. Score:  58\\nSequences (22:32) Aligned. Score:  58\\nSequences (22:33) Aligned. Score:  41\\nSequences (22:34) Aligned. Score:  43\\nSequences (22:35) Aligned. Score:  41\\nSequences (22:36) Aligned. Score:  55\\nSequences (23:24) Aligned. Score:  84\\nSequences (23:25) Aligned. Score:  82\\nSequences (23:26) Aligned. Score:  50\\nSequences (23:27) Aligned. Score:  49\\nSequences (23:28) Aligned. Score:  53\\nSequences (23:29) Aligned. Score:  49\\nSequences (23:30) Aligned. Score:  49\\nSequences (23:31) Aligned. Score:  49\\nSequences (23:32) Aligned. Score:  49\\nSequences (23:33) Aligned. Score:  38\\nSequences (23:34) Aligned. Score:  43\\nSequences (23:35) Aligned. Score:  38\\nSequences (23:36) Aligned. Score:  55\\nSequences (24:25) Aligned. Score:  82\\nSequences (24:26) Aligned. Score:  47\\nSequences (24:27) Aligned. Score:  47\\nSequences (24:28) Aligned. Score:  51\\nSequences (24:29) Aligned. Score:  47\\nSequences (24:30) Aligned. Score:  47\\nSequences (24:31) Aligned. Score:  47\\nSequences (24:32) Aligned. Score:  47\\nSequences (24:33) Aligned. Score:  38\\nSequences (24:34) Aligned. Score:  45\\nSequences (24:35) Aligned. Score:  39\\nSequences (24:36) Aligned. Score:  57\\nSequences (25:26) Aligned. Score:  51\\nSequences (25:27) Aligned. Score:  51\\nSequences (25:28) Aligned. Score:  51\\nSequences (25:29) Aligned. Score:  51\\nSequences (25:30) Aligned. Score:  51\\nSequences (25:31) Aligned. Score:  51\\nSequences (25:32) Aligned. Score:  51\\nSequences (25:33) Aligned. Score:  39\\nSequences (25:34) Aligned. Score:  44\\nSequences (25:35) Aligned. Score:  39\\nSequences (25:36) Aligned. Score:  56\\nSequences (26:27) Aligned. Score:  83\\nSequences (26:28) Aligned. Score:  72\\nSequences (26:29) Aligned. Score:  83\\nSequences (26:30) Aligned. Score:  83\\nSequences (26:31) Aligned. Score:  82\\nSequences (26:32) Aligned. Score:  92\\nSequences (26:33) Aligned. Score:  28\\nSequences (26:34) Aligned. Score:  20\\nSequences (26:35) Aligned. Score:  28\\nSequences (26:36) Aligned. Score:  39\\nSequences (27:28) Aligned. Score:  72\\nSequences (27:29) Aligned. Score:  85\\nSequences (27:30) Aligned. Score:  84\\nSequences (27:31) Aligned. Score:  83\\nSequences (27:32) Aligned. Score:  83\\nSequences (27:33) Aligned. Score:  28\\nSequences (27:34) Aligned. Score:  31\\nSequences (27:35) Aligned. Score:  28\\nSequences (27:36) Aligned. Score:  40\\nSequences (28:29) Aligned. Score:  73\\nSequences (28:30) Aligned. Score:  73\\nSequences (28:31) Aligned. Score:  73\\nSequences (28:32) Aligned. Score:  72\\nSequences (28:33) Aligned. Score:  27\\nSequences (28:34) Aligned. Score:  20\\nSequences (28:35) Aligned. Score:  17\\nSequences (28:36) Aligned. Score:  24\\nSequences (29:30) Aligned. Score:  86\\nSequences (29:31) Aligned. Score:  86\\nSequences (29:32) Aligned. Score:  84\\nSequences (29:33) Aligned. Score:  27\\nSequences (29:34) Aligned. Score:  20\\nSequences (29:35) Aligned. Score:  28\\nSequences (29:36) Aligned. Score:  40\\nSequences (30:31) Aligned. Score:  86\\nSequences (30:32) Aligned. Score:  83\\nSequences (30:33) Aligned. Score:  28\\nSequences (30:34) Aligned. Score:  20\\nSequences (30:35) Aligned. Score:  28\\nSequences (30:36) Aligned. Score:  40\\nSequences (31:32) Aligned. Score:  83\\nSequences (31:33) Aligned. Score:  27\\nSequences (31:34) Aligned. Score:  20\\nSequences (31:35) Aligned. Score:  28\\nSequences (31:36) Aligned. Score:  40\\nSequences (32:33) Aligned. Score:  28\\nSequences (32:34) Aligned. Score:  32\\nSequences (32:35) Aligned. Score:  28\\nSequences (32:36) Aligned. Score:  40\\nSequences (33:34) Aligned. Score:  75\\nSequences (33:35) Aligned. Score:  73\\nSequences (33:36) Aligned. Score:  86\\nSequences (34:35) Aligned. Score:  88\\nSequences (34:36) Aligned. Score:  77\\nSequences (35:36) Aligned. Score:  77\\nGuide tree file created:   [align.dnd]\\n\\nThere are 35 groups\\nStart of Multiple Alignment\\n\\nAligning...\\nGroup 1: Sequences:   2      Score:2261\\nGroup 2: Sequences:   3      Score:30736\\nGroup 3: Sequences:   2      Score:8854\\nGroup 4: Sequences:   3      Score:43943\\nGroup 5: Sequences:   6      Score:20261\\nGroup 6: Sequences:   2      Score:153168\\nGroup 7: Sequences:   2      Score:153824\\nGroup 8: Sequences:   4      Score:143574\\nGroup 9: Sequences:   5      Score:113457\\nGroup 10: Sequences:  11      Score:43001\\nGroup 11: Sequences:   2      Score:152176\\nGroup 12: Sequences:   3      Score:150746\\nGroup 13: Sequences:   4      Score:150025\\nGroup 14: Sequences:   2      Score:150423\\nGroup 15: Sequences:   6      Score:140367\\nGroup 16: Sequences:  17      Score:70882\\nGroup 17: Sequences:   2      Score:131874\\nGroup 18: Sequences:   3      Score:124580\\nGroup 19: Sequences:   4      Score:120379\\nGroup 20: Sequences:   2      Score:124389\\nGroup 21: Sequences:   6      Score:115010\\nGroup 22: Sequences:   7      Score:109424\\nGroup 23: Sequences:   2      Score:147351\\nGroup 24: Sequences:   2      Score:142658\\nGroup 25: Sequences:   3      Score:137997\\nGroup 26: Sequences:   4      Score:133639\\nGroup 27: Sequences:   6      Score:132524\\nGroup 28: Sequences:   7      Score:118720\\nGroup 29: Sequences:  14      Score:86060\\nGroup 30: Sequences:  31      Score:62433\\nGroup 31: Sequences:  32      Score:1906\\nGroup 32: Sequences:   2      Score:112061\\nGroup 33: Sequences:   3      Score:103740\\nGroup 34: Sequences:   4      Score:83825\\nGroup 35: Sequences:  36      Score:59610\\nAlignment Score 14852170\\n\\nCLUSTAL-Alignment file created  [align.aln]\\n\\n',\n",
       " '')"
      ]
     },
     "execution_count": 2,
     "metadata": {},
     "output_type": "execute_result"
    }
   ],
   "source": [
    "cline = ClustalwCommandline(r\"C:\\Program Files (x86)\\ClustalW2\\clustalw2\", infile =\"align.fasta\")\n",
    "cline()"
   ]
  },
  {
   "cell_type": "code",
   "execution_count": null,
   "metadata": {},
   "outputs": [],
   "source": [
    "stdout, stderr = cline()"
   ]
  },
  {
   "cell_type": "code",
   "execution_count": 8,
   "metadata": {},
   "outputs": [
    {
     "name": "stdout",
     "output_type": "stream",
     "text": [
      "SingleLetterAlphabet() alignment with 36 rows and 10881 columns\n",
      "--------------------------------------------...--- SCN1A_sus_scrofa\n",
      "--------------------------------------------...--- SCN1A_cavia\n",
      "--------------------------------------------...--- SCN1A_canis\n",
      "--------------------------------------------...--- SCN1A_mus\n",
      "--------------------------------------------...--- SCN1A_oryctolagus\n",
      "--------------------------------------------...--- SCN1A_rattus\n",
      "--------------------------------------------...--- SCN2A_rattus\n",
      "--------------------------------------------...--- SCN2A_mus\n",
      "--------------------------------------------...--- SCN2A_oryctolagus\n",
      "--------------------------------------------...--- SCN2A_homo\n",
      "--------------------------------------------...--- SCN2A_cavia\n",
      "--------------------------------------------...--- SCN3A_sus_scofa\n",
      "--------------------------------------------...--- SCN3A_canis\n",
      "--------------------------------------------...--- SCN3A_homo\n",
      "--------------------------------------------...--- SCN3A_oryctolagus\n",
      "TACACCTGCACATACATGAACAGACATAGATATGCACTAATATA...--- SCN3A_rattus\n",
      "--------------------------------------------...TGG SCN3A_mus\n",
      "--------------------------------------------...--- SCN4A_sus_scofa\n",
      "...\n",
      "--------------------------------------------...--- SCN7A_canis\n"
     ]
    }
   ],
   "source": [
    "from Bio import AlignIO\n",
    "\n",
    "align = AlignIO.read(\"align.aln\", \"clustal\")\n",
    "print(align)"
   ]
  },
  {
   "cell_type": "code",
   "execution_count": 9,
   "metadata": {},
   "outputs": [
    {
     "name": "stdout",
     "output_type": "stream",
     "text": [
      "                  ___ SCN1A_canis\n",
      "               __|\n",
      "              |  | __ SCN1A_sus_scrofa\n",
      "              |  ||\n",
      "           ___|   |_________ SCN1A_cavia\n",
      "          |   |\n",
      "          |   |     , SCN1A_mus\n",
      "          |   |    ,|\n",
      "          |   |____||_____ SCN1A_oryctolagus\n",
      "          |        |\n",
      "        __|        |_ SCN1A_rattus\n",
      "       |  |\n",
      "       |  |            ___ SCN2A_rattus\n",
      "       |  |      _____|\n",
      "       |  |     |     |___ SCN2A_mus\n",
      "       |  |    _|\n",
      "       |  |   | | ___ SCN2A_oryctolagus\n",
      "       |  |___| ||\n",
      "       |      |  |___ SCN2A_homo\n",
      "       |      |\n",
      "       |      |__ SCN2A_cavia\n",
      "       |\n",
      "     __|           , SCN2A_sus_scrofa\n",
      "    |  |           |\n",
      "    |  |       ____|                        ___________ SCN7A_homo\n",
      "    |  |      |    |                      _|\n",
      "    |  |      |    |                     | |       ____ SCN7A_rattus\n",
      "    |  |      |    |_____________________| |______|\n",
      "    |  |      |                          |        |______ SCN7A_mus\n",
      "    |  |      |                          |\n",
      "    |  |      |                          |__ SCN7A_canis\n",
      "    |  |      |\n",
      "    |  |      |                     ______ SCN4A_homo\n",
      "    |  |      |                   ,|\n",
      "    |  |      |                   || ______ SCN4A_sus_scofa\n",
      "    |  |______|                  _|||\n",
      "    |         |                 | | |______ SCN4A_canis\n",
      "    |         |                 | |\n",
      "    |         |                ,| |______ SCN4A_cavia\n",
      "    |         |                ||\n",
      "    |         |                ||    , SCN4A_rattus\n",
      "  __|         |      __________||____|\n",
      " |  |         |     |          |     |_____ SCN4A_mus\n",
      " |  |         |     |          |\n",
      " |  |         |     |          |_____ SCN4A_oryctolagus\n",
      " |  |         |     |\n",
      " |  |         |     |                    ___ SCN5A_rattus\n",
      " |  |         |_____|                ___|\n",
      " |  |               |               |   |__ SCN5A_mus\n",
      " |  |               |          _____|\n",
      " |  |               |         |     |______ SCN5A_cavia\n",
      " |  |               |         |     |\n",
      " |  |               |         |     |  _____ SCN5A_homo\n",
      " |  |               |_________|     |,|\n",
      "_|  |                         |     |||_____ SCN5A_canis\n",
      " |  |                         |      |\n",
      " |  |                         |      |_____ SCN5A_sus\n",
      " |  |                         |\n",
      " |  |                         |____________ SCN5A_oryctolagus\n",
      " |  |\n",
      " |  |  _______ SCN3A_rattus\n",
      " |  |_|\n",
      " |    |_____ SCN3A_mus\n",
      " |\n",
      " |__ SCN3A_oryctolagus\n",
      " |\n",
      " | __ SCN3A_sus_scofa\n",
      " ,|\n",
      " ||__ SCN3A_canis\n",
      " |\n",
      " |___ SCN3A_homo\n",
      "\n"
     ]
    }
   ],
   "source": [
    "from Bio import Phylo\n",
    "tree = Phylo.read(\"align.dnd\", \"newick\")\n",
    "Phylo.draw_ascii(tree)"
   ]
  },
  {
   "cell_type": "code",
   "execution_count": null,
   "metadata": {},
   "outputs": [],
   "source": []
  }
 ],
 "metadata": {
  "kernelspec": {
   "display_name": "Python 3",
   "language": "python",
   "name": "python3"
  },
  "language_info": {
   "codemirror_mode": {
    "name": "ipython",
    "version": 3
   },
   "file_extension": ".py",
   "mimetype": "text/x-python",
   "name": "python",
   "nbconvert_exporter": "python",
   "pygments_lexer": "ipython3",
   "version": "3.7.4"
  }
 },
 "nbformat": 4,
 "nbformat_minor": 2
}
