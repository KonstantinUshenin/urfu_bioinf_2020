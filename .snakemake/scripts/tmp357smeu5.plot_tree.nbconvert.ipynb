{
 "cells": [
  {
   "cell_type": "code",
   "execution_count": 1,
   "metadata": {},
   "outputs": [],
   "source": [
    "\n",
    "######## Snakemake header ########\n",
    "import sys; sys.path.extend(['/home/mark/anaconda3/lib/python3.7/site-packages', '/home/mark/Рабочий стол/bioinf/urfu_bioinf_2020/notebook_template']); import pickle; snakemake = pickle.loads(b'\\x80\\x03csnakemake.script\\nSnakemake\\nq\\x00)\\x81q\\x01}q\\x02(X\\x05\\x00\\x00\\x00inputq\\x03csnakemake.io\\nInputFiles\\nq\\x04)\\x81q\\x05X\\x11\\x00\\x00\\x00workflow/tree.dndq\\x06a}q\\x07X\\x06\\x00\\x00\\x00_namesq\\x08}q\\tsbX\\x06\\x00\\x00\\x00outputq\\ncsnakemake.io\\nOutputFiles\\nq\\x0b)\\x81q\\x0c}q\\rh\\x08}q\\x0esbX\\x06\\x00\\x00\\x00paramsq\\x0fcsnakemake.io\\nParams\\nq\\x10)\\x81q\\x11}q\\x12h\\x08}q\\x13sbX\\t\\x00\\x00\\x00wildcardsq\\x14csnakemake.io\\nWildcards\\nq\\x15)\\x81q\\x16}q\\x17h\\x08}q\\x18sbX\\x07\\x00\\x00\\x00threadsq\\x19K\\x01X\\t\\x00\\x00\\x00resourcesq\\x1acsnakemake.io\\nResources\\nq\\x1b)\\x81q\\x1c(K\\x01K\\x01e}q\\x1d(h\\x08}q\\x1e(X\\x06\\x00\\x00\\x00_coresq\\x1fK\\x00N\\x86q X\\x06\\x00\\x00\\x00_nodesq!K\\x01N\\x86q\"uh\\x1fK\\x01h!K\\x01ubX\\x03\\x00\\x00\\x00logq#csnakemake.io\\nLog\\nq$)\\x81q%}q&h\\x08}q\\'sbX\\x06\\x00\\x00\\x00configq(}q)X\\x04\\x00\\x00\\x00ruleq*X\\t\\x00\\x00\\x00plot_treeq+X\\x0f\\x00\\x00\\x00bench_iterationq,NX\\t\\x00\\x00\\x00scriptdirq-XL\\x00\\x00\\x00/home/mark/\\xd0\\xa0\\xd0\\xb0\\xd0\\xb1\\xd0\\xbe\\xd1\\x87\\xd0\\xb8\\xd0\\xb9 \\xd1\\x81\\xd1\\x82\\xd0\\xbe\\xd0\\xbb/bioinf/urfu_bioinf_2020/notebook_templateq.ub.'); from snakemake.logging import logger; logger.printshellcmds = False; import os; os.chdir('/home/mark/Рабочий стол/bioinf/urfu_bioinf_2020');\n",
    "######## Original script #########\n"
   ]
  },
  {
   "cell_type": "code",
   "execution_count": 2,
   "metadata": {},
   "outputs": [],
   "source": [
    "import os"
   ]
  },
  {
   "cell_type": "code",
   "execution_count": 3,
   "metadata": {},
   "outputs": [],
   "source": [
    "assert os.path.exists(snakemake.input[0])"
   ]
  },
  {
   "cell_type": "code",
   "execution_count": 4,
   "metadata": {},
   "outputs": [],
   "source": [
    "#folder = os.path.dirname(snakemake.output[0])\n",
    "#if not os.path.exists(folder):\n",
    "#    os.makedirs(folder)"
   ]
  },
  {
   "cell_type": "code",
   "execution_count": 5,
   "metadata": {},
   "outputs": [],
   "source": [
    "#with open(snakemake.output[0], 'w') as fl:\n",
    "#    fl.write(\"Hello, world!\")"
   ]
  },
  {
   "cell_type": "code",
   "execution_count": 6,
   "metadata": {},
   "outputs": [
    {
     "name": "stdout",
     "output_type": "stream",
     "text": [
      "workflow/tree.dnd\n"
     ]
    }
   ],
   "source": [
    "print(snakemake.input)\n",
    "for pth in snakemake.input:\n",
    "    assert os.path.isfile(pth)"
   ]
  }
 ],
 "metadata": {
  "kernelspec": {
   "display_name": "Python 3",
   "language": "python",
   "name": "python3"
  },
  "language_info": {
   "codemirror_mode": {
    "name": "ipython",
    "version": 3
   },
   "file_extension": ".py",
   "mimetype": "text/x-python",
   "name": "python",
   "nbconvert_exporter": "python",
   "pygments_lexer": "ipython3",
   "version": "3.7.1"
  }
 },
 "nbformat": 4,
 "nbformat_minor": 4
}
